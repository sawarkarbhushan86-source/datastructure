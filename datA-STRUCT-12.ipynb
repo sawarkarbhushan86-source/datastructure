{
 "cells": [
  {
   "cell_type": "code",
   "execution_count": 5,
   "id": "2f735bc2-547c-4d71-9e20-cbbb1bfe1d10",
   "metadata": {},
   "outputs": [],
   "source": [
    "#What are data structures, and why are they important"
   ]
  },
  {
   "cell_type": "code",
   "execution_count": 12,
   "id": "7ac0b42e",
   "metadata": {},
   "outputs": [],
   "source": [
    "#A data structure is a specialized way of organizing, storing, and managing data so it can be used efficiently.\n",
    "#    1)Efficiency in Operations\n",
    "#   2) Better Memory Usage"
   ]
  },
  {
   "cell_type": "code",
   "execution_count": 6,
   "id": "c1619b0b-01ef-4707-94f6-2c921baa0d8e",
   "metadata": {},
   "outputs": [],
   "source": [
    "#  Explain the difference between mutable and immutable data types with examplesP"
   ]
  },
  {
   "cell_type": "code",
   "execution_count": 13,
   "id": "745eed23",
   "metadata": {},
   "outputs": [],
   "source": [
    "#You can change the content of the object without changing its identity it called as mutable .\n",
    "# Once created, you cannot change the object it called as immutable "
   ]
  },
  {
   "cell_type": "code",
   "execution_count": 14,
   "id": "aa84fb2e",
   "metadata": {},
   "outputs": [],
   "source": [
    "#What are the main differences between lists and tuples in Python3"
   ]
  },
  {
   "cell_type": "code",
   "execution_count": 15,
   "id": "858492e7",
   "metadata": {},
   "outputs": [],
   "source": [
    "# LIST ARE MUTABLE AND TUPLE ARE IMMUTEBLE  \n",
    "#LIST DENOTE BY []\n",
    "#TUPLE DENOTE BY() "
   ]
  },
  {
   "cell_type": "code",
   "execution_count": 16,
   "id": "d225427c",
   "metadata": {},
   "outputs": [],
   "source": [
    "# Describe how dictionaries store data"
   ]
  },
  {
   "cell_type": "code",
   "execution_count": 17,
   "id": "4c0dfbb8",
   "metadata": {},
   "outputs": [],
   "source": [
    "#dictionary in Python stores data as key–value pairs.\n",
    "\n",
    "#The key is like a name tag.\n",
    "\n",
    "#Python changes the key into a number (hash) and uses that number to find where to keep the value in memory.\n",
    "\n",
    "#This makes finding data very fast."
   ]
  },
  {
   "cell_type": "code",
   "execution_count": 7,
   "id": "2a14c2cd-2a52-4a90-88ed-271e6caa57be",
   "metadata": {},
   "outputs": [],
   "source": [
    "#Why might you use a set instead of a list in python"
   ]
  },
  {
   "cell_type": "raw",
   "id": "9eaba621-d943-45de-92a4-edbf00789344",
   "metadata": {},
   "source": [
    "it has uniquae element and fast searching is present ."
   ]
  },
  {
   "cell_type": "code",
   "execution_count": 8,
   "id": "11b5f191-3b6d-4d91-880d-db34cf6bc9f2",
   "metadata": {},
   "outputs": [],
   "source": [
    "# What is a string in Python, and how is it different from a list"
   ]
  },
  {
   "cell_type": "raw",
   "id": "dbb5a8e0-1e32-4478-adad-b8518f21b96c",
   "metadata": {},
   "source": [
    "String → only text, fixed once created.\n",
    "\n",
    "List → can hold any data, changeable anytime"
   ]
  },
  {
   "cell_type": "code",
   "execution_count": 9,
   "id": "eaf04a0f-15dd-44df-b037-8959ed3c7daf",
   "metadata": {},
   "outputs": [],
   "source": [
    "#How do tuples ensure data integrity in Python3"
   ]
  },
  {
   "cell_type": "raw",
   "id": "84489c5b-ebbe-4237-bc23-59a438a53112",
   "metadata": {},
   "source": [
    "Cannot change – Once made, you can’t add, remove, or update items.\n",
    "\n",
    "No mistakes – Prevents accidental changes to important data.\n",
    "\n",
    "Good for fixed data – Example: days of the week, coordinates."
   ]
  },
  {
   "cell_type": "code",
   "execution_count": 10,
   "id": "5c6e758d-d217-4bb7-a567-1bbeea5ca1f6",
   "metadata": {},
   "outputs": [],
   "source": [
    "# What is a hash table, and how does it relate to dictionaries in Python3\n"
   ]
  },
  {
   "cell_type": "raw",
   "id": "bc258a38-2ba1-4d09-ab50-8e1b44a3ab35",
   "metadata": {},
   "source": [
    "A data structure that stores data in key–value pairs and uses a hash function to find where each value is kept."
   ]
  },
  {
   "cell_type": "raw",
   "id": "69453331-6a28-4df3-a676-99383e5cd9c8",
   "metadata": {},
   "source": [
    "#Can lists contain different data types in Python3"
   ]
  },
  {
   "cell_type": "raw",
   "id": "424c8479-2f38-462a-9a50-0e17ed5acc1b",
   "metadata": {},
   "source": [
    "10 → integer\n",
    "\n",
    "\"Hello\" → string\n",
    "\n",
    "3.14 → float\n",
    "\n",
    "True → boolean\n"
   ]
  },
  {
   "cell_type": "raw",
   "id": "be01d007-2640-406a-a3ef-0608a9aa6152",
   "metadata": {},
   "source": [
    "#Explain why strings are immutable in Python"
   ]
  },
  {
   "cell_type": "code",
   "execution_count": 11,
   "id": "cb36a9c8-fde7-40e3-958c-37c8da3aa8ee",
   "metadata": {},
   "outputs": [
    {
     "ename": "SyntaxError",
     "evalue": "invalid character '–' (U+2013) (1626958486.py, line 1)",
     "output_type": "error",
     "traceback": [
      "  \u001b[36mCell\u001b[39m\u001b[36m \u001b[39m\u001b[32mIn[11]\u001b[39m\u001b[32m, line 1\u001b[39m\n\u001b[31m    \u001b[39m\u001b[31mMemory safety – If multiple variables point to the same string, changing it in one place would accidentally change it everywhere.\u001b[39m\n                  ^\n\u001b[31mSyntaxError\u001b[39m\u001b[31m:\u001b[39m invalid character '–' (U+2013)\n"
     ]
    }
   ],
   "source": [
    "Memory safety – If multiple variables point to the same string, changing it in one place would accidentally change it everywhere.\n",
    "\n",
    "Hashing – Strings are often used as dictionary keys; immutability ensures the hash value stays the same.\n",
    "\n",
    "Optimization – Python can store and reuse the same string in memory (string interning), which saves memory and speeds up execution."
   ]
  },
  {
   "cell_type": "code",
   "execution_count": null,
   "id": "8ae5be57-3093-4606-ab91-79f35fb2b2a2",
   "metadata": {},
   "outputs": [],
   "source": [
    "#What advantages do dictionaries offer over lists for certain tasks3"
   ]
  },
  {
   "cell_type": "code",
   "execution_count": null,
   "id": "1b5994f1-5d88-4e8a-83da-5fcbe1e68cc7",
   "metadata": {},
   "outputs": [],
   "source": [
    "Faster lookups\n",
    "\n",
    "Key–value storage\n",
    "\n",
    "No need to remember indexes\n",
    "\n",
    "Flexible keys\n",
    "\n",
    "Better for mapping relationships"
   ]
  },
  {
   "cell_type": "code",
   "execution_count": null,
   "id": "347fd916-f19a-4480-bea9-4fb1ad7733fb",
   "metadata": {},
   "outputs": [],
   "source": [
    "#Describe a scenario where using a tuple would be preferable over a list"
   ]
  },
  {
   "cell_type": "code",
   "execution_count": null,
   "id": "40e12d7c-5123-4911-b7dc-77dc27b09855",
   "metadata": {},
   "outputs": [],
   "source": [
    "When you need to store fixed, unchangeable data, such as geographic coordinates of a city."
   ]
  },
  {
   "cell_type": "code",
   "execution_count": null,
   "id": "597fabe7-e9d0-4c50-9568-39c6ee01fb73",
   "metadata": {},
   "outputs": [],
   "source": [
    "#How do sets handle duplicate values in Python"
   ]
  },
  {
   "cell_type": "code",
   "execution_count": null,
   "id": "4a6d8876-31e0-4e28-9322-9c38bd4dbeb0",
   "metadata": {},
   "outputs": [],
   "source": [
    "When you add items to a set, if a value already exists, it’s ignored.\n",
    "\n",
    "This ensures every element in a set is unique."
   ]
  },
  {
   "cell_type": "code",
   "execution_count": null,
   "id": "75f6c27a-abb6-4cd3-a480-c7e4b31beb4c",
   "metadata": {},
   "outputs": [],
   "source": [
    "#How does the “in” keyword work differently for lists and dictionaries"
   ]
  },
  {
   "cell_type": "code",
   "execution_count": null,
   "id": "4311b503-f672-45ea-a797-11c0904c16d0",
   "metadata": {},
   "outputs": [],
   "source": [
    "List: \"in\" → searches values.\n",
    "\n",
    "Dictionary: \"in\" → searches keys."
   ]
  },
  {
   "cell_type": "code",
   "execution_count": null,
   "id": "703f1f70-e13c-47d3-bd0e-90c561055f81",
   "metadata": {},
   "outputs": [],
   "source": [
    "#Can you modify the elements of a tuple? Explain why or why notP"
   ]
  },
  {
   "cell_type": "code",
   "execution_count": null,
   "id": "c8aa2b3e-cb0d-4310-847a-88be0da0f981",
   "metadata": {},
   "outputs": [],
   "source": [
    "Tuples are immutable, meaning once they are created, their contents cannot be changed.\n",
    "\n",
    "You can’t add, remove, or update elements inside a tuple.\n",
    "\n",
    "This immutability ensures data safety and makes tuples hashable (usable as dictionary keys)."
   ]
  },
  {
   "cell_type": "code",
   "execution_count": null,
   "id": "86034f27-5f61-4bfa-82dc-2139e1145948",
   "metadata": {},
   "outputs": [],
   "source": [
    "#P What is a nested dictionary, and give an example of its use case3"
   ]
  },
  {
   "cell_type": "code",
   "execution_count": null,
   "id": "83c709f3-ad62-4776-83d1-eebfd80dd956",
   "metadata": {},
   "outputs": [
    {
     "name": "stdout",
     "output_type": "stream",
     "text": [
      "A\n"
     ]
    }
   ],
   "source": [
    "#A nested dictionary is a dictionary that has another dictionary as its value.\n",
    "students = {\n",
    "    \"Alice\": {\"age\": 20, \"grade\": \"A\"},\n",
    "    \"Bob\": {\"age\": 22, \"grade\": \"B\"}\n",
    "}\n",
    "print(students[\"Alice\"][\"grade\"])  \n"
   ]
  },
  {
   "cell_type": "code",
   "execution_count": null,
   "id": "73f3667f-8c1b-4af8-a81f-56be417ab8ab",
   "metadata": {},
   "outputs": [],
   "source": [
    "#  Describe the time complexity of accessing elements in a dictionaryP"
   ]
  },
  {
   "cell_type": "code",
   "execution_count": null,
   "id": "1f42f006-9064-4f1e-958f-25490578f9fc",
   "metadata": {},
   "outputs": [],
   "source": [
    "Average case: O(1) → Constant time, because dictionaries use a hash table for quick lookups.\n",
    "\n",
    "Worst case: O(n) → Happens rarely, only if many keys end up in the same bucket (hash collisions)."
   ]
  },
  {
   "cell_type": "code",
   "execution_count": null,
   "id": "3259bfd6-e9c9-4608-a892-b08bd5201d9b",
   "metadata": {},
   "outputs": [],
   "source": [
    "#In what situations are lists preferred over dictionaries"
   ]
  },
  {
   "cell_type": "code",
   "execution_count": null,
   "id": "d6b60dd1-2ee2-45e9-9ec5-06954f00d0b8",
   "metadata": {},
   "outputs": [],
   "source": [
    "Order matters – You need to keep elements in a specific sequence.\n",
    "\n",
    "Duplicate values allowed – Lists can store the same value multiple times.\n",
    "\n",
    "Index-based access – You want to access items by position (e.g., my_list[0]).\n",
    "\n",
    "Small datasets – Simpler and lighter than dictionaries for small collections.\n",
    "\n",
    "No key–value pairing needed – You only have values, not named keys."
   ]
  },
  {
   "cell_type": "code",
   "execution_count": null,
   "id": "625b399e-615c-49c4-ba7c-7a71811f6602",
   "metadata": {},
   "outputs": [],
   "source": [
    "#Explain the difference between a list and a dictionary in terms of data retrieva\n"
   ]
  },
  {
   "cell_type": "markdown",
   "id": "90de79bc",
   "metadata": {},
   "source": [
    "List\n",
    "\n",
    "Access by position (index).\n",
    "\n",
    "You must know the index number of the item.\n",
    "\n",
    "Dictionary\n",
    "\n",
    "Access by key (label).\n",
    "\n",
    "You don’t need to know the position — just the key name    "
   ]
  },
  {
   "cell_type": "code",
   "execution_count": null,
   "id": "bee5a5f6",
   "metadata": {},
   "outputs": [
    {
     "data": {
      "text/plain": [
       "'bhushan'"
      ]
     },
     "execution_count": 3,
     "metadata": {},
     "output_type": "execute_result"
    }
   ],
   "source": [
    "string = \"bhushan\"\n",
    "string"
   ]
  },
  {
   "cell_type": "markdown",
   "id": "227294b9",
   "metadata": {},
   "source": [
    "#Write a code to create a string with your name and print it"
   ]
  },
  {
   "cell_type": "markdown",
   "id": "18684f20",
   "metadata": {},
   "source": [
    "\n"
   ]
  },
  {
   "cell_type": "code",
   "execution_count": null,
   "id": "bb933ee3",
   "metadata": {},
   "outputs": [
    {
     "data": {
      "text/plain": [
       "' String'"
      ]
     },
     "execution_count": 6,
     "metadata": {},
     "output_type": "execute_result"
    }
   ],
   "source": [
    "name = \" String\"\n",
    "name"
   ]
  },
  {
   "cell_type": "markdown",
   "id": "2f8d54db",
   "metadata": {},
   "source": []
  },
  {
   "cell_type": "markdown",
   "id": "76ab9fcb",
   "metadata": {},
   "source": [
    "#Write a code to find the length of the string \"Hello World\""
   ]
  },
  {
   "cell_type": "code",
   "execution_count": null,
   "id": "eb814948",
   "metadata": {},
   "outputs": [
    {
     "data": {
      "text/plain": [
       "11"
      ]
     },
     "execution_count": 8,
     "metadata": {},
     "output_type": "execute_result"
    }
   ],
   "source": [
    "string =\"hello world\"\n",
    "len(string)"
   ]
  },
  {
   "cell_type": "markdown",
   "id": "c589e3ae",
   "metadata": {},
   "source": []
  },
  {
   "cell_type": "markdown",
   "id": "0630d701",
   "metadata": {},
   "source": [
    "#Write a code to slice the first 3 characters from the string \"Python Programming\""
   ]
  },
  {
   "cell_type": "code",
   "execution_count": null,
   "id": "5241f96d",
   "metadata": {},
   "outputs": [
    {
     "data": {
      "text/plain": [
       "'Pyt'"
      ]
     },
     "execution_count": 9,
     "metadata": {},
     "output_type": "execute_result"
    }
   ],
   "source": [
    "string = \"Python Programming\"\n",
    "string[:3]"
   ]
  },
  {
   "cell_type": "markdown",
   "id": "ff2541e5",
   "metadata": {},
   "source": []
  },
  {
   "cell_type": "markdown",
   "id": "80508e3b",
   "metadata": {},
   "source": [
    "#Write a code to convert the string \"hello\" to uppercase"
   ]
  },
  {
   "cell_type": "code",
   "execution_count": null,
   "id": "e98c3b83",
   "metadata": {},
   "outputs": [
    {
     "data": {
      "text/plain": [
       "'HELLO'"
      ]
     },
     "execution_count": 11,
     "metadata": {},
     "output_type": "execute_result"
    }
   ],
   "source": [
    "string = \"hello\"\n",
    "string.upper()"
   ]
  },
  {
   "cell_type": "markdown",
   "id": "d014abff",
   "metadata": {},
   "source": []
  },
  {
   "cell_type": "markdown",
   "id": "0d7d7065",
   "metadata": {},
   "source": [
    "#Write a code to replace the word \"apple\" with \"orange\" in the string \"I like apple\""
   ]
  },
  {
   "cell_type": "code",
   "execution_count": null,
   "id": "e3c2cadc",
   "metadata": {},
   "outputs": [],
   "source": []
  },
  {
   "cell_type": "code",
   "execution_count": null,
   "id": "3086b779",
   "metadata": {},
   "outputs": [
    {
     "data": {
      "text/plain": [
       "'I like orange'"
      ]
     },
     "execution_count": 15,
     "metadata": {},
     "output_type": "execute_result"
    }
   ],
   "source": [
    "string= (\"I like apple\")\n",
    "string.replace(\"apple\",\"orange\")\n"
   ]
  },
  {
   "cell_type": "markdown",
   "id": "4a8ca5af",
   "metadata": {},
   "source": []
  },
  {
   "cell_type": "markdown",
   "id": "86722612",
   "metadata": {},
   "source": [
    "# Write a code to create a list with numbers 1 to 5 and print it"
   ]
  },
  {
   "cell_type": "code",
   "execution_count": null,
   "id": "0fc1b00b",
   "metadata": {},
   "outputs": [
    {
     "data": {
      "text/plain": [
       "[1, 2, 3, 4, 5]"
      ]
     },
     "execution_count": 16,
     "metadata": {},
     "output_type": "execute_result"
    }
   ],
   "source": [
    "list =[1,2,3,4,5]\n",
    "list"
   ]
  },
  {
   "cell_type": "markdown",
   "id": "cdf2ca9a",
   "metadata": {},
   "source": []
  },
  {
   "cell_type": "markdown",
   "id": "eca0da20",
   "metadata": {},
   "source": [
    "Write a code to append the number 10 to the list [1, 2, 3, 4]\n"
   ]
  },
  {
   "cell_type": "code",
   "execution_count": null,
   "id": "e7620af1",
   "metadata": {},
   "outputs": [
    {
     "data": {
      "text/plain": [
       "[1, 2, 3, 4, 5, 10]"
      ]
     },
     "execution_count": 18,
     "metadata": {},
     "output_type": "execute_result"
    }
   ],
   "source": [
    "list = [1,2,3,4,5]\n",
    "list.append(10)\n",
    "list"
   ]
  },
  {
   "cell_type": "markdown",
   "id": "3a8d423e",
   "metadata": {},
   "source": [
    "#Write a code to remove the number 3 from the list [1, 2, 3, 4, 5]"
   ]
  },
  {
   "cell_type": "code",
   "execution_count": null,
   "id": "413f9a7b",
   "metadata": {},
   "outputs": [
    {
     "data": {
      "text/plain": [
       "[1, 2, 4, 5]"
      ]
     },
     "execution_count": 19,
     "metadata": {},
     "output_type": "execute_result"
    }
   ],
   "source": [
    "list = [1,2,3,4,5]\n",
    "list.remove(3)\n",
    "list\n"
   ]
  },
  {
   "cell_type": "markdown",
   "id": "fca8262c",
   "metadata": {},
   "source": []
  },
  {
   "cell_type": "markdown",
   "id": "6e5949f3",
   "metadata": {},
   "source": [
    "#Write a code to access the second element in the list ['a', 'b', 'c', 'd']"
   ]
  },
  {
   "cell_type": "code",
   "execution_count": null,
   "id": "bbf6d25e",
   "metadata": {},
   "outputs": [
    {
     "data": {
      "text/plain": [
       "'b'"
      ]
     },
     "execution_count": 24,
     "metadata": {},
     "output_type": "execute_result"
    }
   ],
   "source": [
    "list =['a', 'b', 'c', 'd']\n",
    "list[1]\n"
   ]
  },
  {
   "cell_type": "markdown",
   "id": "aff03ea0",
   "metadata": {},
   "source": []
  },
  {
   "cell_type": "markdown",
   "id": "190b633d",
   "metadata": {},
   "source": [
    "#Write a code to reverse the list [10, 20, 30, 40, 50]."
   ]
  },
  {
   "cell_type": "code",
   "execution_count": null,
   "id": "0832fe46",
   "metadata": {},
   "outputs": [
    {
     "data": {
      "text/plain": [
       "[50, 40, 30, 20, 10]"
      ]
     },
     "execution_count": 25,
     "metadata": {},
     "output_type": "execute_result"
    }
   ],
   "source": [
    "list =[10,20,30,40,50]\n",
    "list[::-1]"
   ]
  },
  {
   "cell_type": "markdown",
   "id": "d2e3148d",
   "metadata": {},
   "source": []
  },
  {
   "cell_type": "markdown",
   "id": "30277bba",
   "metadata": {},
   "source": [
    "#Write a code to create a tuple with the elements 100, 200, 300 and print it"
   ]
  },
  {
   "cell_type": "code",
   "execution_count": null,
   "id": "a183cdc4",
   "metadata": {},
   "outputs": [
    {
     "data": {
      "text/plain": [
       "{100, 200, 300}"
      ]
     },
     "execution_count": 26,
     "metadata": {},
     "output_type": "execute_result"
    }
   ],
   "source": [
    "tuple = {100,200,300}\n",
    "tuple"
   ]
  },
  {
   "cell_type": "markdown",
   "id": "80187298",
   "metadata": {},
   "source": []
  },
  {
   "cell_type": "markdown",
   "id": "7ac5f4be",
   "metadata": {},
   "source": [
    "# Write a code to access the second-to-last element of the tuple ('red', 'green', 'blue', 'yellow')."
   ]
  },
  {
   "cell_type": "markdown",
   "id": "72b63d90",
   "metadata": {},
   "source": []
  },
  {
   "cell_type": "code",
   "execution_count": null,
   "id": "ff2efa49",
   "metadata": {},
   "outputs": [
    {
     "data": {
      "text/plain": [
       "'blue'"
      ]
     },
     "execution_count": 34,
     "metadata": {},
     "output_type": "execute_result"
    }
   ],
   "source": [
    "tuple= ('red', 'green', 'blue', 'yellow')\n",
    "tuple[-2]"
   ]
  },
  {
   "cell_type": "markdown",
   "id": "9461aedf",
   "metadata": {},
   "source": []
  },
  {
   "cell_type": "markdown",
   "id": "7a7beda5",
   "metadata": {},
   "source": [
    "#Write a code to find the minimum number in the tuple (10, 20, 5, 15)."
   ]
  },
  {
   "cell_type": "code",
   "execution_count": null,
   "id": "18a9f3ca",
   "metadata": {},
   "outputs": [
    {
     "name": "stdout",
     "output_type": "stream",
     "text": [
      "5\n"
     ]
    }
   ],
   "source": [
    "tuple=(10,20,5,15)\n",
    "print(min(tuple))\n"
   ]
  },
  {
   "cell_type": "markdown",
   "id": "266a8cfd",
   "metadata": {},
   "source": []
  },
  {
   "cell_type": "markdown",
   "id": "968cbd78",
   "metadata": {},
   "source": [
    "# Write a code to find the index of the element \"cat\" in the tuple ('dog', 'cat', 'rabbit')"
   ]
  },
  {
   "cell_type": "code",
   "execution_count": null,
   "id": "001cfd00",
   "metadata": {},
   "outputs": [
    {
     "data": {
      "text/plain": [
       "'cat'"
      ]
     },
     "execution_count": 40,
     "metadata": {},
     "output_type": "execute_result"
    }
   ],
   "source": [
    "tuple=('dog','cat','rabbit')\n",
    "tuple[1]"
   ]
  },
  {
   "cell_type": "markdown",
   "id": "3b7ffe68",
   "metadata": {},
   "source": []
  },
  {
   "cell_type": "markdown",
   "id": "b232da47",
   "metadata": {},
   "source": [
    "# Write a code to create a tuple containing three different fruits and check if \"kiwi\" is in it."
   ]
  },
  {
   "cell_type": "code",
   "execution_count": null,
   "id": "ac790c25",
   "metadata": {},
   "outputs": [
    {
     "name": "stdout",
     "output_type": "stream",
     "text": [
      "fruit is present\n"
     ]
    }
   ],
   "source": [
    "fruit_basket = ('banana','apple','kiwi')\n",
    "if 'kiwi' in fruit_basket:\n",
    "     print (\"fruit is present\")\n",
    "else:\n",
    "     print(\"fruit is not present \")    "
   ]
  },
  {
   "cell_type": "markdown",
   "id": "362ec4e9",
   "metadata": {},
   "source": []
  },
  {
   "cell_type": "markdown",
   "id": "48c4f065",
   "metadata": {},
   "source": [
    "#Write a code to create a set with the elements 'a', 'b', 'c' and print it."
   ]
  },
  {
   "cell_type": "code",
   "execution_count": null,
   "id": "218ed8af",
   "metadata": {},
   "outputs": [
    {
     "data": {
      "text/plain": [
       "{'a', 'b', 'c'}"
      ]
     },
     "execution_count": 49,
     "metadata": {},
     "output_type": "execute_result"
    }
   ],
   "source": [
    "set = {'a', 'b', 'c'}\n",
    "set"
   ]
  },
  {
   "cell_type": "markdown",
   "id": "f73a2af9",
   "metadata": {},
   "source": []
  },
  {
   "cell_type": "markdown",
   "id": "1d4f60c7",
   "metadata": {},
   "source": [
    "#. Write a code to clear all elements from the set {1, 2, 3, 4, 5}"
   ]
  },
  {
   "cell_type": "code",
   "execution_count": null,
   "id": "95aa77c5",
   "metadata": {},
   "outputs": [
    {
     "data": {
      "text/plain": [
       "set()"
      ]
     },
     "execution_count": 51,
     "metadata": {},
     "output_type": "execute_result"
    }
   ],
   "source": [
    "set = {1, 2, 3, 4, 5}\n",
    "set.clear()\n",
    "set"
   ]
  },
  {
   "cell_type": "markdown",
   "id": "4829352c",
   "metadata": {},
   "source": []
  },
  {
   "cell_type": "markdown",
   "id": "410eea40",
   "metadata": {},
   "source": [
    "#. Write a code to remove the element 4 from the set {1, 2, 3, 4}."
   ]
  },
  {
   "cell_type": "code",
   "execution_count": null,
   "id": "bef81f55",
   "metadata": {},
   "outputs": [
    {
     "data": {
      "text/plain": [
       "{1, 2, 3}"
      ]
     },
     "execution_count": 52,
     "metadata": {},
     "output_type": "execute_result"
    }
   ],
   "source": [
    "set= {1, 2, 3, 4}\n",
    "set.remove(4)\n",
    "set"
   ]
  },
  {
   "cell_type": "markdown",
   "id": "49b034e0",
   "metadata": {},
   "source": []
  },
  {
   "cell_type": "markdown",
   "id": "34ee82cf",
   "metadata": {},
   "source": [
    "# Write a code to find the union of two sets {1, 2, 3} and {3, 4, 5}"
   ]
  },
  {
   "cell_type": "code",
   "execution_count": null,
   "id": "c19ca771",
   "metadata": {},
   "outputs": [
    {
     "data": {
      "text/plain": [
       "{1, 2, 3, 4, 5}"
      ]
     },
     "execution_count": 53,
     "metadata": {},
     "output_type": "execute_result"
    }
   ],
   "source": [
    "set1= {1, 2, 3}\n",
    "set2= {3, 4, 5}\n",
    "set1|set2"
   ]
  },
  {
   "cell_type": "markdown",
   "id": "c119cd52",
   "metadata": {},
   "source": []
  },
  {
   "cell_type": "markdown",
   "id": "5cfb12a0",
   "metadata": {},
   "source": [
    "# Write a code to find the intersection of two sets {1, 2, 3} and  {1, 2, 3}."
   ]
  },
  {
   "cell_type": "code",
   "execution_count": null,
   "id": "360ea5bd",
   "metadata": {},
   "outputs": [
    {
     "data": {
      "text/plain": [
       "{1, 2, 3}"
      ]
     },
     "execution_count": 54,
     "metadata": {},
     "output_type": "execute_result"
    }
   ],
   "source": [
    "set1= {1, 2, 3}\n",
    "set2={1, 2, 3}\n",
    "set1&set2\n"
   ]
  },
  {
   "cell_type": "markdown",
   "id": "0758fc12",
   "metadata": {},
   "source": []
  },
  {
   "cell_type": "markdown",
   "id": "ce72a889",
   "metadata": {},
   "source": [
    "# Write a code to create a dictionary with the keys \"name\", \"age\", and \"city\", and print it."
   ]
  },
  {
   "cell_type": "code",
   "execution_count": null,
   "id": "34afc034",
   "metadata": {},
   "outputs": [
    {
     "data": {
      "text/plain": [
       "{'age', 'city', 'name'}"
      ]
     },
     "execution_count": 55,
     "metadata": {},
     "output_type": "execute_result"
    }
   ],
   "source": [
    "dict ={\"name\", \"age\", \"city\"}\n",
    "dict"
   ]
  },
  {
   "cell_type": "markdown",
   "id": "312c7069",
   "metadata": {},
   "source": [
    "# Write a code to add a new key-value pair \"country\": \"USA\" to the dictionary{'name': 'John', 'age': 25} ."
   ]
  },
  {
   "cell_type": "code",
   "execution_count": null,
   "id": "e6147fae",
   "metadata": {},
   "outputs": [
    {
     "data": {
      "text/plain": [
       "{'name': 'John', 'age': 25, 'county': 'USA'}"
      ]
     },
     "execution_count": 58,
     "metadata": {},
     "output_type": "execute_result"
    }
   ],
   "source": [
    "\n",
    "dict = {'name': 'John', 'age': 25}\n",
    "dict[\"county\"] = \"USA\"\n",
    "dict"
   ]
  },
  {
   "cell_type": "code",
   "execution_count": null,
   "id": "f892ec31",
   "metadata": {},
   "outputs": [],
   "source": []
  },
  {
   "cell_type": "markdown",
   "id": "a8490e46",
   "metadata": {},
   "source": []
  },
  {
   "cell_type": "markdown",
   "id": "94d6c4db",
   "metadata": {},
   "source": [
    "# Write a code to access the value associated with the key \"name\" in the dictionary {'name': 'Alice', 'age': 30}"
   ]
  },
  {
   "cell_type": "code",
   "execution_count": null,
   "id": "1f534e3e",
   "metadata": {},
   "outputs": [
    {
     "name": "stdout",
     "output_type": "stream",
     "text": [
      "Alice\n"
     ]
    }
   ],
   "source": [
    "person = {'name': 'Alice', 'age': 30}\n",
    "print(person['name'])\n"
   ]
  },
  {
   "cell_type": "markdown",
   "id": "e556f8ff",
   "metadata": {},
   "source": []
  },
  {
   "cell_type": "markdown",
   "id": "e665eefb",
   "metadata": {},
   "source": []
  },
  {
   "cell_type": "markdown",
   "id": "ddb11a86",
   "metadata": {},
   "source": []
  }
 ],
 "metadata": {
  "kernelspec": {
   "display_name": "Python 3",
   "language": "python",
   "name": "python3"
  },
  "language_info": {
   "codemirror_mode": {
    "name": "ipython",
    "version": 3
   },
   "file_extension": ".py",
   "mimetype": "text/x-python",
   "name": "python",
   "nbconvert_exporter": "python",
   "pygments_lexer": "ipython3",
   "version": "3.12.2"
  }
 },
 "nbformat": 4,
 "nbformat_minor": 5
}
